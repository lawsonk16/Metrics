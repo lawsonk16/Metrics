{
  "nbformat": 4,
  "nbformat_minor": 0,
  "metadata": {
    "colab": {
      "provenance": [],
      "authorship_tag": "ABX9TyPCNR5vVsVap8apJlN3QiBV",
      "include_colab_link": true
    },
    "kernelspec": {
      "name": "python3",
      "display_name": "Python 3"
    },
    "language_info": {
      "name": "python"
    }
  },
  "cells": [
    {
      "cell_type": "markdown",
      "metadata": {
        "id": "view-in-github",
        "colab_type": "text"
      },
      "source": [
        "<a href=\"https://colab.research.google.com/github/lawsonk16/Metrics/blob/main/Hierarchical_Metrics.ipynb\" target=\"_parent\"><img src=\"https://colab.research.google.com/assets/colab-badge.svg\" alt=\"Open In Colab\"/></a>"
      ]
    },
    {
      "cell_type": "markdown",
      "source": [
        "# Hierarchical Performance Metrics\n",
        "In this notebook, I'll be investigating hierarchical precision, recall, and f1 score as described in [this article](https://towardsdatascience.com/hierarchical-performance-metrics-and-where-to-find-them-7090aaa07183)."
      ],
      "metadata": {
        "id": "TCDdMNtGG5dc"
      }
    },
    {
      "cell_type": "code",
      "execution_count": null,
      "metadata": {
        "id": "g0DyRiqhGwgt"
      },
      "outputs": [],
      "source": [
        "import json\n",
        "import os\n",
        "import numpy as np\n",
        "import pandas as pd"
      ]
    },
    {
      "cell_type": "markdown",
      "source": [
        "## Category Implementation\n",
        "\n",
        "The article's author demonstartes the calculation of the metrics as shown using the following class structure:\n",
        "![image.png](https://miro.medium.com/max/1400/1*Z68UG1eIK9GASUEb1nSbzg.webp)\n",
        "I prefer to use COCO datasets for my machine learning efforts, so the following is that class tree represented in a COCO-style set of categories\n"
      ],
      "metadata": {
        "id": "vbiqYnKvLRno"
      }
    },
    {
      "cell_type": "code",
      "source": [
        "cats = [\n",
        "    {'id': 1, 'name': 'cat', 'supercategory': 'pet'},\n",
        "    {'id': 2, 'name': 'dog', 'supercategory': 'pet'},\n",
        "    {'id': 3, 'name': 'unicorn', 'supercategory': 'pet'},\n",
        "\n",
        "    {'id': 4, 'name': 'siamese', 'supercategory': 'cat'},\n",
        "    {'id': 5, 'name': 'persian', 'supercategory': 'cat'},\n",
        "    {'id': 6, 'name': 'sphynx', 'supercategory': 'cat'},\n",
        "\n",
        "    {'id': 7, 'name': 'poodle', 'supercategory': 'dog'},\n",
        "    {'id': 8, 'name': 'french bulldog', 'supercategory': 'dog'},\n",
        "    {'id': 9, 'name': 'dalmation', 'supercategory': 'dog'},\n",
        "    {'id': 10, 'name': 'labrador', 'supercategory': 'dog'},\n",
        "\n",
        "    {'id': 11, 'name': 'pegasus', 'supercategory': 'unicorn'},\n",
        "    {'id': 12, 'name': 'rainbow unicorn', 'supercategory': 'unicorn'},\n",
        "    {'id': 13, 'name': 'narwhal', 'supercategory': 'unicorn'},\n",
        "\n",
        "    # {'id': 14, 'name': 'pet', 'supercategory': None}\n",
        "]"
      ],
      "metadata": {
        "id": "i5rKtyBzG1An"
      },
      "execution_count": null,
      "outputs": []
    },
    {
      "cell_type": "markdown",
      "source": [
        "Because array-wise operations are generally more effective and DataFrames enable that style of analysis with ease, let's convert to a DataFrame "
      ],
      "metadata": {
        "id": "yyvwzMuOiN3U"
      }
    },
    {
      "cell_type": "code",
      "source": [
        "cats_df = pd.DataFrame(cats)\n",
        "cats_df"
      ],
      "metadata": {
        "colab": {
          "base_uri": "https://localhost:8080/",
          "height": 457
        },
        "id": "UxE1fVl6iMHf",
        "outputId": "f68962ce-2764-4fab-a595-a94a26e90cf9"
      },
      "execution_count": null,
      "outputs": [
        {
          "output_type": "execute_result",
          "data": {
            "text/plain": [
              "    id             name supercategory\n",
              "0    1              cat           pet\n",
              "1    2              dog           pet\n",
              "2    3          unicorn           pet\n",
              "3    4          siamese           cat\n",
              "4    5          persian           cat\n",
              "5    6           sphynx           cat\n",
              "6    7           poodle           dog\n",
              "7    8   french bulldog           dog\n",
              "8    9        dalmation           dog\n",
              "9   10         labrador           dog\n",
              "10  11          pegasus       unicorn\n",
              "11  12  rainbow unicorn       unicorn\n",
              "12  13          narwhal       unicorn"
            ],
            "text/html": [
              "\n",
              "  <div id=\"df-1065d736-7e92-41ef-b586-66d5d84abbde\">\n",
              "    <div class=\"colab-df-container\">\n",
              "      <div>\n",
              "<style scoped>\n",
              "    .dataframe tbody tr th:only-of-type {\n",
              "        vertical-align: middle;\n",
              "    }\n",
              "\n",
              "    .dataframe tbody tr th {\n",
              "        vertical-align: top;\n",
              "    }\n",
              "\n",
              "    .dataframe thead th {\n",
              "        text-align: right;\n",
              "    }\n",
              "</style>\n",
              "<table border=\"1\" class=\"dataframe\">\n",
              "  <thead>\n",
              "    <tr style=\"text-align: right;\">\n",
              "      <th></th>\n",
              "      <th>id</th>\n",
              "      <th>name</th>\n",
              "      <th>supercategory</th>\n",
              "    </tr>\n",
              "  </thead>\n",
              "  <tbody>\n",
              "    <tr>\n",
              "      <th>0</th>\n",
              "      <td>1</td>\n",
              "      <td>cat</td>\n",
              "      <td>pet</td>\n",
              "    </tr>\n",
              "    <tr>\n",
              "      <th>1</th>\n",
              "      <td>2</td>\n",
              "      <td>dog</td>\n",
              "      <td>pet</td>\n",
              "    </tr>\n",
              "    <tr>\n",
              "      <th>2</th>\n",
              "      <td>3</td>\n",
              "      <td>unicorn</td>\n",
              "      <td>pet</td>\n",
              "    </tr>\n",
              "    <tr>\n",
              "      <th>3</th>\n",
              "      <td>4</td>\n",
              "      <td>siamese</td>\n",
              "      <td>cat</td>\n",
              "    </tr>\n",
              "    <tr>\n",
              "      <th>4</th>\n",
              "      <td>5</td>\n",
              "      <td>persian</td>\n",
              "      <td>cat</td>\n",
              "    </tr>\n",
              "    <tr>\n",
              "      <th>5</th>\n",
              "      <td>6</td>\n",
              "      <td>sphynx</td>\n",
              "      <td>cat</td>\n",
              "    </tr>\n",
              "    <tr>\n",
              "      <th>6</th>\n",
              "      <td>7</td>\n",
              "      <td>poodle</td>\n",
              "      <td>dog</td>\n",
              "    </tr>\n",
              "    <tr>\n",
              "      <th>7</th>\n",
              "      <td>8</td>\n",
              "      <td>french bulldog</td>\n",
              "      <td>dog</td>\n",
              "    </tr>\n",
              "    <tr>\n",
              "      <th>8</th>\n",
              "      <td>9</td>\n",
              "      <td>dalmation</td>\n",
              "      <td>dog</td>\n",
              "    </tr>\n",
              "    <tr>\n",
              "      <th>9</th>\n",
              "      <td>10</td>\n",
              "      <td>labrador</td>\n",
              "      <td>dog</td>\n",
              "    </tr>\n",
              "    <tr>\n",
              "      <th>10</th>\n",
              "      <td>11</td>\n",
              "      <td>pegasus</td>\n",
              "      <td>unicorn</td>\n",
              "    </tr>\n",
              "    <tr>\n",
              "      <th>11</th>\n",
              "      <td>12</td>\n",
              "      <td>rainbow unicorn</td>\n",
              "      <td>unicorn</td>\n",
              "    </tr>\n",
              "    <tr>\n",
              "      <th>12</th>\n",
              "      <td>13</td>\n",
              "      <td>narwhal</td>\n",
              "      <td>unicorn</td>\n",
              "    </tr>\n",
              "  </tbody>\n",
              "</table>\n",
              "</div>\n",
              "      <button class=\"colab-df-convert\" onclick=\"convertToInteractive('df-1065d736-7e92-41ef-b586-66d5d84abbde')\"\n",
              "              title=\"Convert this dataframe to an interactive table.\"\n",
              "              style=\"display:none;\">\n",
              "        \n",
              "  <svg xmlns=\"http://www.w3.org/2000/svg\" height=\"24px\"viewBox=\"0 0 24 24\"\n",
              "       width=\"24px\">\n",
              "    <path d=\"M0 0h24v24H0V0z\" fill=\"none\"/>\n",
              "    <path d=\"M18.56 5.44l.94 2.06.94-2.06 2.06-.94-2.06-.94-.94-2.06-.94 2.06-2.06.94zm-11 1L8.5 8.5l.94-2.06 2.06-.94-2.06-.94L8.5 2.5l-.94 2.06-2.06.94zm10 10l.94 2.06.94-2.06 2.06-.94-2.06-.94-.94-2.06-.94 2.06-2.06.94z\"/><path d=\"M17.41 7.96l-1.37-1.37c-.4-.4-.92-.59-1.43-.59-.52 0-1.04.2-1.43.59L10.3 9.45l-7.72 7.72c-.78.78-.78 2.05 0 2.83L4 21.41c.39.39.9.59 1.41.59.51 0 1.02-.2 1.41-.59l7.78-7.78 2.81-2.81c.8-.78.8-2.07 0-2.86zM5.41 20L4 18.59l7.72-7.72 1.47 1.35L5.41 20z\"/>\n",
              "  </svg>\n",
              "      </button>\n",
              "      \n",
              "  <style>\n",
              "    .colab-df-container {\n",
              "      display:flex;\n",
              "      flex-wrap:wrap;\n",
              "      gap: 12px;\n",
              "    }\n",
              "\n",
              "    .colab-df-convert {\n",
              "      background-color: #E8F0FE;\n",
              "      border: none;\n",
              "      border-radius: 50%;\n",
              "      cursor: pointer;\n",
              "      display: none;\n",
              "      fill: #1967D2;\n",
              "      height: 32px;\n",
              "      padding: 0 0 0 0;\n",
              "      width: 32px;\n",
              "    }\n",
              "\n",
              "    .colab-df-convert:hover {\n",
              "      background-color: #E2EBFA;\n",
              "      box-shadow: 0px 1px 2px rgba(60, 64, 67, 0.3), 0px 1px 3px 1px rgba(60, 64, 67, 0.15);\n",
              "      fill: #174EA6;\n",
              "    }\n",
              "\n",
              "    [theme=dark] .colab-df-convert {\n",
              "      background-color: #3B4455;\n",
              "      fill: #D2E3FC;\n",
              "    }\n",
              "\n",
              "    [theme=dark] .colab-df-convert:hover {\n",
              "      background-color: #434B5C;\n",
              "      box-shadow: 0px 1px 3px 1px rgba(0, 0, 0, 0.15);\n",
              "      filter: drop-shadow(0px 1px 2px rgba(0, 0, 0, 0.3));\n",
              "      fill: #FFFFFF;\n",
              "    }\n",
              "  </style>\n",
              "\n",
              "      <script>\n",
              "        const buttonEl =\n",
              "          document.querySelector('#df-1065d736-7e92-41ef-b586-66d5d84abbde button.colab-df-convert');\n",
              "        buttonEl.style.display =\n",
              "          google.colab.kernel.accessAllowed ? 'block' : 'none';\n",
              "\n",
              "        async function convertToInteractive(key) {\n",
              "          const element = document.querySelector('#df-1065d736-7e92-41ef-b586-66d5d84abbde');\n",
              "          const dataTable =\n",
              "            await google.colab.kernel.invokeFunction('convertToInteractive',\n",
              "                                                     [key], {});\n",
              "          if (!dataTable) return;\n",
              "\n",
              "          const docLinkHtml = 'Like what you see? Visit the ' +\n",
              "            '<a target=\"_blank\" href=https://colab.research.google.com/notebooks/data_table.ipynb>data table notebook</a>'\n",
              "            + ' to learn more about interactive tables.';\n",
              "          element.innerHTML = '';\n",
              "          dataTable['output_type'] = 'display_data';\n",
              "          await google.colab.output.renderOutput(dataTable, element);\n",
              "          const docLink = document.createElement('div');\n",
              "          docLink.innerHTML = docLinkHtml;\n",
              "          element.appendChild(docLink);\n",
              "        }\n",
              "      </script>\n",
              "    </div>\n",
              "  </div>\n",
              "  "
            ]
          },
          "metadata": {},
          "execution_count": 63
        }
      ]
    },
    {
      "cell_type": "markdown",
      "source": [
        "The metrics as described in the article are calculated as follows.\n",
        "![image.png](https://miro.medium.com/max/4800/1*2hhRmQx9KnUB3muTBqE5iA.webp)\n",
        "\n",
        "She gives the following example table in the article for calculations of metrics relative to the Dalmation class:\n",
        "![image.png](https://miro.medium.com/max/4800/1*LhX_q5UtpljO4vo8F8Veew.webp)\n",
        "\n",
        "Ideally, we could do these calculations on an array-wise basis."
      ],
      "metadata": {
        "id": "qpftcPAvMpku"
      }
    },
    {
      "cell_type": "code",
      "source": [
        "metric_id = [[9],[2]]\n",
        "\n",
        "predictions = np.array([[9,9,9,8,12,4],\n",
        "                       [2,2,2,2,3,1]])\n",
        "true_labels = np.array([[10,13,9,9,9,5],\n",
        "                       [2,3,2,2,2,1]])\n",
        "\n",
        "t_i = true_labels==metric_id\n",
        "p_i = predictions==metric_id"
      ],
      "metadata": {
        "id": "_nsiNSpjKNqO"
      },
      "execution_count": null,
      "outputs": []
    },
    {
      "cell_type": "code",
      "source": [
        "sum(p_i),sum(t_i)"
      ],
      "metadata": {
        "colab": {
          "base_uri": "https://localhost:8080/"
        },
        "id": "zaAT_zyoaRtM",
        "outputId": "a3c7441f-89fa-459d-c02c-281dc06a30a4"
      },
      "execution_count": null,
      "outputs": [
        {
          "output_type": "execute_result",
          "data": {
            "text/plain": [
              "(array([2, 2, 2, 1, 0, 0]), array([1, 0, 2, 2, 2, 0]))"
            ]
          },
          "metadata": {},
          "execution_count": 65
        }
      ]
    },
    {
      "cell_type": "code",
      "source": [
        "t_and_p = np.logical_and(t_i, p_i)\n",
        "sum(t_and_p)"
      ],
      "metadata": {
        "colab": {
          "base_uri": "https://localhost:8080/"
        },
        "id": "U_uTR1cHeEGU",
        "outputId": "9dc878cf-6aa6-46cc-9320-d91907098ceb"
      },
      "execution_count": null,
      "outputs": [
        {
          "output_type": "execute_result",
          "data": {
            "text/plain": [
              "array([1, 0, 2, 1, 0, 0])"
            ]
          },
          "metadata": {},
          "execution_count": 66
        }
      ]
    },
    {
      "cell_type": "code",
      "source": [
        "sum(t_and_p)/sum(t_i)"
      ],
      "metadata": {
        "colab": {
          "base_uri": "https://localhost:8080/"
        },
        "id": "bYV4nWkOmR04",
        "outputId": "4641c8e4-b527-4d1b-f490-b70c6707f25e"
      },
      "execution_count": null,
      "outputs": [
        {
          "output_type": "stream",
          "name": "stderr",
          "text": [
            "<ipython-input-67-a77f70893336>:1: RuntimeWarning: invalid value encountered in true_divide\n",
            "  sum(t_and_p)/sum(t_i)\n"
          ]
        },
        {
          "output_type": "execute_result",
          "data": {
            "text/plain": [
              "array([1. , nan, 1. , 0.5, 0. , nan])"
            ]
          },
          "metadata": {},
          "execution_count": 67
        }
      ]
    },
    {
      "cell_type": "code",
      "source": [
        "sum(t_and_p)/sum(p_i)"
      ],
      "metadata": {
        "colab": {
          "base_uri": "https://localhost:8080/"
        },
        "id": "xx-NYQ_gmsRK",
        "outputId": "f27f53e8-a70e-4ca2-8243-85b57d1d4d2a"
      },
      "execution_count": null,
      "outputs": [
        {
          "output_type": "stream",
          "name": "stderr",
          "text": [
            "<ipython-input-68-0d66e9a886e6>:1: RuntimeWarning: invalid value encountered in true_divide\n",
            "  sum(t_and_p)/sum(p_i)\n"
          ]
        },
        {
          "output_type": "execute_result",
          "data": {
            "text/plain": [
              "array([0.5, 0. , 1. , 1. , nan, nan])"
            ]
          },
          "metadata": {},
          "execution_count": 68
        }
      ]
    },
    {
      "cell_type": "code",
      "source": [
        "sum(t_and_p)/sum(p_i)"
      ],
      "metadata": {
        "colab": {
          "base_uri": "https://localhost:8080/"
        },
        "id": "WgidNBPsKgXA",
        "outputId": "8d76abb8-3624-4628-f763-9963a20b0ffb"
      },
      "execution_count": null,
      "outputs": [
        {
          "output_type": "stream",
          "name": "stderr",
          "text": [
            "<ipython-input-123-0d66e9a886e6>:1: RuntimeWarning: invalid value encountered in true_divide\n",
            "  sum(t_and_p)/sum(p_i)\n"
          ]
        },
        {
          "output_type": "execute_result",
          "data": {
            "text/plain": [
              "array([0.5, 0. , 1. , 1. , nan, nan])"
            ]
          },
          "metadata": {},
          "execution_count": 123
        }
      ]
    },
    {
      "cell_type": "markdown",
      "source": [
        "## Automating the categories\n",
        "Above I just manually entered the two-tiered category arrays and made calculations but we need to be able to automate creation of the arrays we used to make those calculations"
      ],
      "metadata": {
        "id": "uLV6p4jip2VU"
      }
    },
    {
      "cell_type": "code",
      "source": [
        "def is_supercategory(cats_df):\n",
        "  \"\"\"Takes in cat_df (a DataFrame with coco_style categories)\n",
        "  Returns an array which can be used as a mask indicating\n",
        "  Whether each category is a supercategory of something else in the category list\n",
        "  \"\"\"\n",
        "  cat_names = cats_df['name']\n",
        "  is_supercategory = []\n",
        "\n",
        "  for c in cat_names:\n",
        "    is_supercategory.append(not cats_df[cats_df['supercategory']==c].empty)\n",
        "\n",
        "  return is_supercategory"
      ],
      "metadata": {
        "id": "UjUGV8NziwBL"
      },
      "execution_count": null,
      "outputs": []
    },
    {
      "cell_type": "code",
      "source": [
        "def add_supercategories(cats_df):\n",
        "  '''\n",
        "  in: cats_df, pandas dataframe with coco-style categories\n",
        "  out: cats_df with new column appended for the class's full category hierarchy\n",
        "  '''\n",
        "  # add supercategory ids to the dataframe\n",
        "  super_cats = cats_df[is_supercategory(cats_df)]\n",
        "  map_dict = super_cats.set_index('name').to_dict()['id']\n",
        "  cats_df['supercategory_id'] = cats_df['supercategory'].map(map_dict)\n",
        "\n",
        "  # recursively create new data column consisting of a list of the sequence of \n",
        "  # categories a class is a part of \n",
        "  cat_supers = cats_df.set_index('id').to_dict()['supercategory_id']\n",
        "  ids = list(cat_supers.keys())\n",
        "  id_lists = []\n",
        "  for i in ids:\n",
        "    id_list = [i]\n",
        "    cont= True\n",
        "    while cont:\n",
        "      try:\n",
        "        check_id = cat_supers[id_list[-1]]\n",
        "        if not pd.isna(check_id):\n",
        "            id_list.append(int(check_id))\n",
        "        else:\n",
        "            id_lists.append(id_list)\n",
        "            cont = False\n",
        "      except:\n",
        "        id_lists.append(id_list)\n",
        "        cont = False\n",
        "\n",
        "  cats_df['category_hierarchy'] = id_lists\n",
        "\n",
        "  return cats_df"
      ],
      "metadata": {
        "id": "R_x4t-3rzETA"
      },
      "execution_count": null,
      "outputs": []
    },
    {
      "cell_type": "code",
      "source": [
        "cats_df = add_supercategories(cats_df)\n",
        "cats_df"
      ],
      "metadata": {
        "colab": {
          "base_uri": "https://localhost:8080/",
          "height": 457
        },
        "id": "c9k7I7Mlvxfp",
        "outputId": "60d5ca38-cb88-4e51-f82f-265579f78a2b"
      },
      "execution_count": null,
      "outputs": [
        {
          "output_type": "execute_result",
          "data": {
            "text/plain": [
              "    id             name supercategory  supercategory_id category_hierarchy\n",
              "0    1              cat           pet               NaN                [1]\n",
              "1    2              dog           pet               NaN                [2]\n",
              "2    3          unicorn           pet               NaN                [3]\n",
              "3    4          siamese           cat               1.0             [4, 1]\n",
              "4    5          persian           cat               1.0             [5, 1]\n",
              "5    6           sphynx           cat               1.0             [6, 1]\n",
              "6    7           poodle           dog               2.0             [7, 2]\n",
              "7    8   french bulldog           dog               2.0             [8, 2]\n",
              "8    9        dalmation           dog               2.0             [9, 2]\n",
              "9   10         labrador           dog               2.0            [10, 2]\n",
              "10  11          pegasus       unicorn               3.0            [11, 3]\n",
              "11  12  rainbow unicorn       unicorn               3.0            [12, 3]\n",
              "12  13          narwhal       unicorn               3.0            [13, 3]"
            ],
            "text/html": [
              "\n",
              "  <div id=\"df-90c3e971-767b-443a-8da7-657eac9a04c1\">\n",
              "    <div class=\"colab-df-container\">\n",
              "      <div>\n",
              "<style scoped>\n",
              "    .dataframe tbody tr th:only-of-type {\n",
              "        vertical-align: middle;\n",
              "    }\n",
              "\n",
              "    .dataframe tbody tr th {\n",
              "        vertical-align: top;\n",
              "    }\n",
              "\n",
              "    .dataframe thead th {\n",
              "        text-align: right;\n",
              "    }\n",
              "</style>\n",
              "<table border=\"1\" class=\"dataframe\">\n",
              "  <thead>\n",
              "    <tr style=\"text-align: right;\">\n",
              "      <th></th>\n",
              "      <th>id</th>\n",
              "      <th>name</th>\n",
              "      <th>supercategory</th>\n",
              "      <th>supercategory_id</th>\n",
              "      <th>category_hierarchy</th>\n",
              "    </tr>\n",
              "  </thead>\n",
              "  <tbody>\n",
              "    <tr>\n",
              "      <th>0</th>\n",
              "      <td>1</td>\n",
              "      <td>cat</td>\n",
              "      <td>pet</td>\n",
              "      <td>NaN</td>\n",
              "      <td>[1]</td>\n",
              "    </tr>\n",
              "    <tr>\n",
              "      <th>1</th>\n",
              "      <td>2</td>\n",
              "      <td>dog</td>\n",
              "      <td>pet</td>\n",
              "      <td>NaN</td>\n",
              "      <td>[2]</td>\n",
              "    </tr>\n",
              "    <tr>\n",
              "      <th>2</th>\n",
              "      <td>3</td>\n",
              "      <td>unicorn</td>\n",
              "      <td>pet</td>\n",
              "      <td>NaN</td>\n",
              "      <td>[3]</td>\n",
              "    </tr>\n",
              "    <tr>\n",
              "      <th>3</th>\n",
              "      <td>4</td>\n",
              "      <td>siamese</td>\n",
              "      <td>cat</td>\n",
              "      <td>1.0</td>\n",
              "      <td>[4, 1]</td>\n",
              "    </tr>\n",
              "    <tr>\n",
              "      <th>4</th>\n",
              "      <td>5</td>\n",
              "      <td>persian</td>\n",
              "      <td>cat</td>\n",
              "      <td>1.0</td>\n",
              "      <td>[5, 1]</td>\n",
              "    </tr>\n",
              "    <tr>\n",
              "      <th>5</th>\n",
              "      <td>6</td>\n",
              "      <td>sphynx</td>\n",
              "      <td>cat</td>\n",
              "      <td>1.0</td>\n",
              "      <td>[6, 1]</td>\n",
              "    </tr>\n",
              "    <tr>\n",
              "      <th>6</th>\n",
              "      <td>7</td>\n",
              "      <td>poodle</td>\n",
              "      <td>dog</td>\n",
              "      <td>2.0</td>\n",
              "      <td>[7, 2]</td>\n",
              "    </tr>\n",
              "    <tr>\n",
              "      <th>7</th>\n",
              "      <td>8</td>\n",
              "      <td>french bulldog</td>\n",
              "      <td>dog</td>\n",
              "      <td>2.0</td>\n",
              "      <td>[8, 2]</td>\n",
              "    </tr>\n",
              "    <tr>\n",
              "      <th>8</th>\n",
              "      <td>9</td>\n",
              "      <td>dalmation</td>\n",
              "      <td>dog</td>\n",
              "      <td>2.0</td>\n",
              "      <td>[9, 2]</td>\n",
              "    </tr>\n",
              "    <tr>\n",
              "      <th>9</th>\n",
              "      <td>10</td>\n",
              "      <td>labrador</td>\n",
              "      <td>dog</td>\n",
              "      <td>2.0</td>\n",
              "      <td>[10, 2]</td>\n",
              "    </tr>\n",
              "    <tr>\n",
              "      <th>10</th>\n",
              "      <td>11</td>\n",
              "      <td>pegasus</td>\n",
              "      <td>unicorn</td>\n",
              "      <td>3.0</td>\n",
              "      <td>[11, 3]</td>\n",
              "    </tr>\n",
              "    <tr>\n",
              "      <th>11</th>\n",
              "      <td>12</td>\n",
              "      <td>rainbow unicorn</td>\n",
              "      <td>unicorn</td>\n",
              "      <td>3.0</td>\n",
              "      <td>[12, 3]</td>\n",
              "    </tr>\n",
              "    <tr>\n",
              "      <th>12</th>\n",
              "      <td>13</td>\n",
              "      <td>narwhal</td>\n",
              "      <td>unicorn</td>\n",
              "      <td>3.0</td>\n",
              "      <td>[13, 3]</td>\n",
              "    </tr>\n",
              "  </tbody>\n",
              "</table>\n",
              "</div>\n",
              "      <button class=\"colab-df-convert\" onclick=\"convertToInteractive('df-90c3e971-767b-443a-8da7-657eac9a04c1')\"\n",
              "              title=\"Convert this dataframe to an interactive table.\"\n",
              "              style=\"display:none;\">\n",
              "        \n",
              "  <svg xmlns=\"http://www.w3.org/2000/svg\" height=\"24px\"viewBox=\"0 0 24 24\"\n",
              "       width=\"24px\">\n",
              "    <path d=\"M0 0h24v24H0V0z\" fill=\"none\"/>\n",
              "    <path d=\"M18.56 5.44l.94 2.06.94-2.06 2.06-.94-2.06-.94-.94-2.06-.94 2.06-2.06.94zm-11 1L8.5 8.5l.94-2.06 2.06-.94-2.06-.94L8.5 2.5l-.94 2.06-2.06.94zm10 10l.94 2.06.94-2.06 2.06-.94-2.06-.94-.94-2.06-.94 2.06-2.06.94z\"/><path d=\"M17.41 7.96l-1.37-1.37c-.4-.4-.92-.59-1.43-.59-.52 0-1.04.2-1.43.59L10.3 9.45l-7.72 7.72c-.78.78-.78 2.05 0 2.83L4 21.41c.39.39.9.59 1.41.59.51 0 1.02-.2 1.41-.59l7.78-7.78 2.81-2.81c.8-.78.8-2.07 0-2.86zM5.41 20L4 18.59l7.72-7.72 1.47 1.35L5.41 20z\"/>\n",
              "  </svg>\n",
              "      </button>\n",
              "      \n",
              "  <style>\n",
              "    .colab-df-container {\n",
              "      display:flex;\n",
              "      flex-wrap:wrap;\n",
              "      gap: 12px;\n",
              "    }\n",
              "\n",
              "    .colab-df-convert {\n",
              "      background-color: #E8F0FE;\n",
              "      border: none;\n",
              "      border-radius: 50%;\n",
              "      cursor: pointer;\n",
              "      display: none;\n",
              "      fill: #1967D2;\n",
              "      height: 32px;\n",
              "      padding: 0 0 0 0;\n",
              "      width: 32px;\n",
              "    }\n",
              "\n",
              "    .colab-df-convert:hover {\n",
              "      background-color: #E2EBFA;\n",
              "      box-shadow: 0px 1px 2px rgba(60, 64, 67, 0.3), 0px 1px 3px 1px rgba(60, 64, 67, 0.15);\n",
              "      fill: #174EA6;\n",
              "    }\n",
              "\n",
              "    [theme=dark] .colab-df-convert {\n",
              "      background-color: #3B4455;\n",
              "      fill: #D2E3FC;\n",
              "    }\n",
              "\n",
              "    [theme=dark] .colab-df-convert:hover {\n",
              "      background-color: #434B5C;\n",
              "      box-shadow: 0px 1px 3px 1px rgba(0, 0, 0, 0.15);\n",
              "      filter: drop-shadow(0px 1px 2px rgba(0, 0, 0, 0.3));\n",
              "      fill: #FFFFFF;\n",
              "    }\n",
              "  </style>\n",
              "\n",
              "      <script>\n",
              "        const buttonEl =\n",
              "          document.querySelector('#df-90c3e971-767b-443a-8da7-657eac9a04c1 button.colab-df-convert');\n",
              "        buttonEl.style.display =\n",
              "          google.colab.kernel.accessAllowed ? 'block' : 'none';\n",
              "\n",
              "        async function convertToInteractive(key) {\n",
              "          const element = document.querySelector('#df-90c3e971-767b-443a-8da7-657eac9a04c1');\n",
              "          const dataTable =\n",
              "            await google.colab.kernel.invokeFunction('convertToInteractive',\n",
              "                                                     [key], {});\n",
              "          if (!dataTable) return;\n",
              "\n",
              "          const docLinkHtml = 'Like what you see? Visit the ' +\n",
              "            '<a target=\"_blank\" href=https://colab.research.google.com/notebooks/data_table.ipynb>data table notebook</a>'\n",
              "            + ' to learn more about interactive tables.';\n",
              "          element.innerHTML = '';\n",
              "          dataTable['output_type'] = 'display_data';\n",
              "          await google.colab.output.renderOutput(dataTable, element);\n",
              "          const docLink = document.createElement('div');\n",
              "          docLink.innerHTML = docLinkHtml;\n",
              "          element.appendChild(docLink);\n",
              "        }\n",
              "      </script>\n",
              "    </div>\n",
              "  </div>\n",
              "  "
            ]
          },
          "metadata": {},
          "execution_count": 72
        }
      ]
    },
    {
      "cell_type": "code",
      "source": [
        "def get_nd_cats(values, col_name, cats_df):\n",
        "  df = pd.DataFrame(values, columns = [col_name])\n",
        "  df['cat_hierarchy'] = df[col_name].map(cats_df.set_index('id').to_dict()['category_hierarchy'])\n",
        "\n",
        "  return np.array(df['cat_hierarchy'].to_list()).T"
      ],
      "metadata": {
        "id": "zvAkbwsL_TJ0"
      },
      "execution_count": null,
      "outputs": []
    },
    {
      "cell_type": "code",
      "source": [
        "p = np.array([9,9,9,8,12,4])\n",
        "t = np.array([10,13,9,9,9,5])\n",
        "cat_id = 9"
      ],
      "metadata": {
        "id": "RDZQJqJQ7ouA"
      },
      "execution_count": null,
      "outputs": []
    },
    {
      "cell_type": "code",
      "source": [
        "predictions = get_nd_cats(p, 'predictions', cats_df)\n",
        "predictions"
      ],
      "metadata": {
        "colab": {
          "base_uri": "https://localhost:8080/"
        },
        "id": "2JgoOukq9JDF",
        "outputId": "35e5dfe6-1c2f-4724-9f41-2cfb05facd9b"
      },
      "execution_count": null,
      "outputs": [
        {
          "output_type": "execute_result",
          "data": {
            "text/plain": [
              "array([[ 9,  9,  9,  8, 12,  4],\n",
              "       [ 2,  2,  2,  2,  3,  1]])"
            ]
          },
          "metadata": {},
          "execution_count": 118
        }
      ]
    },
    {
      "cell_type": "code",
      "source": [
        "true_labels = get_nd_cats(t, 'predictions', cats_df)\n",
        "true_labels"
      ],
      "metadata": {
        "colab": {
          "base_uri": "https://localhost:8080/"
        },
        "id": "ft3V8nd1_Oy1",
        "outputId": "294affec-992c-4897-b7f4-a38806b20f6e"
      },
      "execution_count": null,
      "outputs": [
        {
          "output_type": "execute_result",
          "data": {
            "text/plain": [
              "array([[10, 13,  9,  9,  9,  5],\n",
              "       [ 2,  3,  2,  2,  2,  1]])"
            ]
          },
          "metadata": {},
          "execution_count": 120
        }
      ]
    },
    {
      "cell_type": "code",
      "source": [
        "metric_id = np.array([cats_df.set_index('id').to_dict()['category_hierarchy'][cat_id]]).T\n",
        "metric_id"
      ],
      "metadata": {
        "colab": {
          "base_uri": "https://localhost:8080/"
        },
        "id": "o-EYG3aBANU9",
        "outputId": "f489613c-753b-4f58-c270-008ec5a57ca3"
      },
      "execution_count": null,
      "outputs": [
        {
          "output_type": "execute_result",
          "data": {
            "text/plain": [
              "array([[9],\n",
              "       [2]])"
            ]
          },
          "metadata": {},
          "execution_count": 121
        }
      ]
    },
    {
      "cell_type": "code",
      "source": [
        "t_i = true_labels==metric_id\n",
        "p_i = predictions==metric_id"
      ],
      "metadata": {
        "id": "epNULWt-BAYL"
      },
      "execution_count": null,
      "outputs": []
    },
    {
      "cell_type": "markdown",
      "source": [
        "### Backup"
      ],
      "metadata": {
        "id": "_42EulbaBB-j"
      }
    }
  ]
}